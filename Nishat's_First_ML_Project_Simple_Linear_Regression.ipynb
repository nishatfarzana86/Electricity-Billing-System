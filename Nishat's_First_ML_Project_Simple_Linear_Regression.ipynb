{
  "nbformat": 4,
  "nbformat_minor": 0,
  "metadata": {
    "colab": {
      "name": "Nishat's First ML Project - Simple Linear Regression.ipynb",
      "provenance": [],
      "collapsed_sections": [],
      "authorship_tag": "ABX9TyNK5BeeW/n68ex5wHe/ZOTh",
      "include_colab_link": true
    },
    "kernelspec": {
      "name": "python3",
      "display_name": "Python 3"
    }
  },
  "cells": [
    {
      "cell_type": "markdown",
      "metadata": {
        "id": "view-in-github",
        "colab_type": "text"
      },
      "source": [
        "<a href=\"https://colab.research.google.com/github/nishatfarzana86/Machine-Learning/blob/main/Nishat's_First_ML_Project_Simple_Linear_Regression.ipynb\" target=\"_parent\"><img src=\"https://colab.research.google.com/assets/colab-badge.svg\" alt=\"Open In Colab\"/></a>"
      ]
    },
    {
      "cell_type": "code",
      "metadata": {
        "id": "niwd5ke1S4zx"
      },
      "source": [
        ""
      ],
      "execution_count": null,
      "outputs": []
    },
    {
      "cell_type": "markdown",
      "metadata": {
        "id": "hiVBkY8wT_VA"
      },
      "source": [
        "Get the Data"
      ]
    },
    {
      "cell_type": "code",
      "metadata": {
        "colab": {
          "base_uri": "https://localhost:8080/"
        },
        "id": "tPrxmBfZUiR7",
        "outputId": "b89b8bef-ed8e-4b8f-be39-11672bd2c526"
      },
      "source": [
        "!wget \"https://archive.org/download/ages-and-heights/AgesAndHeights.pkl\""
      ],
      "execution_count": 3,
      "outputs": [
        {
          "output_type": "stream",
          "text": [
            "--2021-03-07 10:56:52--  https://archive.org/download/ages-and-heights/AgesAndHeights.pkl\n",
            "Resolving archive.org (archive.org)... 207.241.224.2\n",
            "Connecting to archive.org (archive.org)|207.241.224.2|:443... connected.\n",
            "HTTP request sent, awaiting response... 302 Found\n",
            "Location: https://ia801501.us.archive.org/8/items/ages-and-heights/AgesAndHeights.pkl [following]\n",
            "--2021-03-07 10:56:52--  https://ia801501.us.archive.org/8/items/ages-and-heights/AgesAndHeights.pkl\n",
            "Resolving ia801501.us.archive.org (ia801501.us.archive.org)... 207.241.228.151\n",
            "Connecting to ia801501.us.archive.org (ia801501.us.archive.org)|207.241.228.151|:443... connected.\n",
            "HTTP request sent, awaiting response... 200 OK\n",
            "Length: 2406 (2.3K) [application/octet-stream]\n",
            "Saving to: ‘AgesAndHeights.pkl’\n",
            "\n",
            "AgesAndHeights.pkl  100%[===================>]   2.35K  --.-KB/s    in 0s      \n",
            "\n",
            "2021-03-07 10:56:53 (349 MB/s) - ‘AgesAndHeights.pkl’ saved [2406/2406]\n",
            "\n"
          ],
          "name": "stdout"
        }
      ]
    },
    {
      "cell_type": "code",
      "metadata": {
        "colab": {
          "base_uri": "https://localhost:8080/",
          "height": 419
        },
        "id": "A4wrJ9bTUFO7",
        "outputId": "c34d7b2c-cc35-46bc-984c-4cc35f0714fa"
      },
      "source": [
        "import pandas as pd\r\n",
        "raw_data = pd.read_pickle('AgesAndHeights.pkl')\r\n",
        "raw_data"
      ],
      "execution_count": 5,
      "outputs": [
        {
          "output_type": "execute_result",
          "data": {
            "text/html": [
              "<div>\n",
              "<style scoped>\n",
              "    .dataframe tbody tr th:only-of-type {\n",
              "        vertical-align: middle;\n",
              "    }\n",
              "\n",
              "    .dataframe tbody tr th {\n",
              "        vertical-align: top;\n",
              "    }\n",
              "\n",
              "    .dataframe thead th {\n",
              "        text-align: right;\n",
              "    }\n",
              "</style>\n",
              "<table border=\"1\" class=\"dataframe\">\n",
              "  <thead>\n",
              "    <tr style=\"text-align: right;\">\n",
              "      <th></th>\n",
              "      <th>Age</th>\n",
              "      <th>Height</th>\n",
              "    </tr>\n",
              "  </thead>\n",
              "  <tbody>\n",
              "    <tr>\n",
              "      <th>0</th>\n",
              "      <td>14.767874</td>\n",
              "      <td>59.627484</td>\n",
              "    </tr>\n",
              "    <tr>\n",
              "      <th>1</th>\n",
              "      <td>3.107671</td>\n",
              "      <td>36.146453</td>\n",
              "    </tr>\n",
              "    <tr>\n",
              "      <th>2</th>\n",
              "      <td>7.266917</td>\n",
              "      <td>46.912878</td>\n",
              "    </tr>\n",
              "    <tr>\n",
              "      <th>3</th>\n",
              "      <td>1.815180</td>\n",
              "      <td>29.125660</td>\n",
              "    </tr>\n",
              "    <tr>\n",
              "      <th>4</th>\n",
              "      <td>16.753758</td>\n",
              "      <td>68.170414</td>\n",
              "    </tr>\n",
              "    <tr>\n",
              "      <th>...</th>\n",
              "      <td>...</td>\n",
              "      <td>...</td>\n",
              "    </tr>\n",
              "    <tr>\n",
              "      <th>95</th>\n",
              "      <td>7.323712</td>\n",
              "      <td>46.857505</td>\n",
              "    </tr>\n",
              "    <tr>\n",
              "      <th>96</th>\n",
              "      <td>5.591509</td>\n",
              "      <td>39.339990</td>\n",
              "    </tr>\n",
              "    <tr>\n",
              "      <th>97</th>\n",
              "      <td>2.625606</td>\n",
              "      <td>32.918925</td>\n",
              "    </tr>\n",
              "    <tr>\n",
              "      <th>98</th>\n",
              "      <td>5.519293</td>\n",
              "      <td>40.704154</td>\n",
              "    </tr>\n",
              "    <tr>\n",
              "      <th>99</th>\n",
              "      <td>13.117413</td>\n",
              "      <td>55.177407</td>\n",
              "    </tr>\n",
              "  </tbody>\n",
              "</table>\n",
              "<p>100 rows × 2 columns</p>\n",
              "</div>"
            ],
            "text/plain": [
              "          Age     Height\n",
              "0   14.767874  59.627484\n",
              "1    3.107671  36.146453\n",
              "2    7.266917  46.912878\n",
              "3    1.815180  29.125660\n",
              "4   16.753758  68.170414\n",
              "..        ...        ...\n",
              "95   7.323712  46.857505\n",
              "96   5.591509  39.339990\n",
              "97   2.625606  32.918925\n",
              "98   5.519293  40.704154\n",
              "99  13.117413  55.177407\n",
              "\n",
              "[100 rows x 2 columns]"
            ]
          },
          "metadata": {
            "tags": []
          },
          "execution_count": 5
        }
      ]
    },
    {
      "cell_type": "code",
      "metadata": {
        "colab": {
          "base_uri": "https://localhost:8080/",
          "height": 332
        },
        "id": "1iZW9ecxWOz5",
        "outputId": "43a59fe5-b58d-421d-9b68-57d67294ea20"
      },
      "source": [
        "raw_data.hist()"
      ],
      "execution_count": 6,
      "outputs": [
        {
          "output_type": "execute_result",
          "data": {
            "text/plain": [
              "array([[<matplotlib.axes._subplots.AxesSubplot object at 0x7fd14282ac50>,\n",
              "        <matplotlib.axes._subplots.AxesSubplot object at 0x7fd14519ec50>]],\n",
              "      dtype=object)"
            ]
          },
          "metadata": {
            "tags": []
          },
          "execution_count": 6
        },
        {
          "output_type": "display_data",
          "data": {
            "image/png": "[encoded data removed]",
            "text/plain": [
              "<Figure size 432x288 with 2 Axes>"
            ]
          },
          "metadata": {
            "tags": [],
            "needs_background": "light"
          }
        }
      ]
    },
    {
      "cell_type": "markdown",
      "metadata": {
        "id": "d-zlNNSRUHEV"
      },
      "source": [
        "Visualize the Data\r\n"
      ]
    },
    {
      "cell_type": "code",
      "metadata": {
        "colab": {
          "base_uri": "https://localhost:8080/",
          "height": 297
        },
        "id": "w2PvXrbSXxbW",
        "outputId": "9d15b25f-b99b-4580-c5f1-c4f04770efb3"
      },
      "source": [
        "raw_data.describe()"
      ],
      "execution_count": 7,
      "outputs": [
        {
          "output_type": "execute_result",
          "data": {
            "text/html": [
              "<div>\n",
              "<style scoped>\n",
              "    .dataframe tbody tr th:only-of-type {\n",
              "        vertical-align: middle;\n",
              "    }\n",
              "\n",
              "    .dataframe tbody tr th {\n",
              "        vertical-align: top;\n",
              "    }\n",
              "\n",
              "    .dataframe thead th {\n",
              "        text-align: right;\n",
              "    }\n",
              "</style>\n",
              "<table border=\"1\" class=\"dataframe\">\n",
              "  <thead>\n",
              "    <tr style=\"text-align: right;\">\n",
              "      <th></th>\n",
              "      <th>Age</th>\n",
              "      <th>Height</th>\n",
              "    </tr>\n",
              "  </thead>\n",
              "  <tbody>\n",
              "    <tr>\n",
              "      <th>count</th>\n",
              "      <td>100.000000</td>\n",
              "      <td>100.000000</td>\n",
              "    </tr>\n",
              "    <tr>\n",
              "      <th>mean</th>\n",
              "      <td>7.966138</td>\n",
              "      <td>45.955674</td>\n",
              "    </tr>\n",
              "    <tr>\n",
              "      <th>std</th>\n",
              "      <td>5.321621</td>\n",
              "      <td>10.787318</td>\n",
              "    </tr>\n",
              "    <tr>\n",
              "      <th>min</th>\n",
              "      <td>-0.780853</td>\n",
              "      <td>27.332513</td>\n",
              "    </tr>\n",
              "    <tr>\n",
              "      <th>25%</th>\n",
              "      <td>3.048885</td>\n",
              "      <td>36.320107</td>\n",
              "    </tr>\n",
              "    <tr>\n",
              "      <th>50%</th>\n",
              "      <td>7.795597</td>\n",
              "      <td>46.178251</td>\n",
              "    </tr>\n",
              "    <tr>\n",
              "      <th>75%</th>\n",
              "      <td>11.464331</td>\n",
              "      <td>53.994166</td>\n",
              "    </tr>\n",
              "    <tr>\n",
              "      <th>max</th>\n",
              "      <td>17.887852</td>\n",
              "      <td>68.170414</td>\n",
              "    </tr>\n",
              "  </tbody>\n",
              "</table>\n",
              "</div>"
            ],
            "text/plain": [
              "              Age      Height\n",
              "count  100.000000  100.000000\n",
              "mean     7.966138   45.955674\n",
              "std      5.321621   10.787318\n",
              "min     -0.780853   27.332513\n",
              "25%      3.048885   36.320107\n",
              "50%      7.795597   46.178251\n",
              "75%     11.464331   53.994166\n",
              "max     17.887852   68.170414"
            ]
          },
          "metadata": {
            "tags": []
          },
          "execution_count": 7
        }
      ]
    },
    {
      "cell_type": "code",
      "metadata": {
        "id": "bPNQFVrJWJgw"
      },
      "source": [
        ""
      ],
      "execution_count": null,
      "outputs": []
    },
    {
      "cell_type": "markdown",
      "metadata": {
        "id": "pb7yDWqJY2Mg"
      },
      "source": [
        "Data Cleaning"
      ]
    },
    {
      "cell_type": "code",
      "metadata": {
        "id": "EPLagp-8Z4Tw"
      },
      "source": [
        ""
      ],
      "execution_count": null,
      "outputs": []
    },
    {
      "cell_type": "code",
      "metadata": {
        "colab": {
          "base_uri": "https://localhost:8080/",
          "height": 419
        },
        "id": "eoxCHk-gY7H1",
        "outputId": "7f0ca7ec-5b32-4ee4-ae5f-3be34736565d"
      },
      "source": [
        "cleaned_data = raw_data[raw_data['Age'] > 0]\r\n",
        "cleaned_data"
      ],
      "execution_count": 12,
      "outputs": [
        {
          "output_type": "execute_result",
          "data": {
            "text/html": [
              "<div>\n",
              "<style scoped>\n",
              "    .dataframe tbody tr th:only-of-type {\n",
              "        vertical-align: middle;\n",
              "    }\n",
              "\n",
              "    .dataframe tbody tr th {\n",
              "        vertical-align: top;\n",
              "    }\n",
              "\n",
              "    .dataframe thead th {\n",
              "        text-align: right;\n",
              "    }\n",
              "</style>\n",
              "<table border=\"1\" class=\"dataframe\">\n",
              "  <thead>\n",
              "    <tr style=\"text-align: right;\">\n",
              "      <th></th>\n",
              "      <th>Age</th>\n",
              "      <th>Height</th>\n",
              "    </tr>\n",
              "  </thead>\n",
              "  <tbody>\n",
              "    <tr>\n",
              "      <th>0</th>\n",
              "      <td>14.767874</td>\n",
              "      <td>59.627484</td>\n",
              "    </tr>\n",
              "    <tr>\n",
              "      <th>1</th>\n",
              "      <td>3.107671</td>\n",
              "      <td>36.146453</td>\n",
              "    </tr>\n",
              "    <tr>\n",
              "      <th>2</th>\n",
              "      <td>7.266917</td>\n",
              "      <td>46.912878</td>\n",
              "    </tr>\n",
              "    <tr>\n",
              "      <th>3</th>\n",
              "      <td>1.815180</td>\n",
              "      <td>29.125660</td>\n",
              "    </tr>\n",
              "    <tr>\n",
              "      <th>4</th>\n",
              "      <td>16.753758</td>\n",
              "      <td>68.170414</td>\n",
              "    </tr>\n",
              "    <tr>\n",
              "      <th>...</th>\n",
              "      <td>...</td>\n",
              "      <td>...</td>\n",
              "    </tr>\n",
              "    <tr>\n",
              "      <th>95</th>\n",
              "      <td>7.323712</td>\n",
              "      <td>46.857505</td>\n",
              "    </tr>\n",
              "    <tr>\n",
              "      <th>96</th>\n",
              "      <td>5.591509</td>\n",
              "      <td>39.339990</td>\n",
              "    </tr>\n",
              "    <tr>\n",
              "      <th>97</th>\n",
              "      <td>2.625606</td>\n",
              "      <td>32.918925</td>\n",
              "    </tr>\n",
              "    <tr>\n",
              "      <th>98</th>\n",
              "      <td>5.519293</td>\n",
              "      <td>40.704154</td>\n",
              "    </tr>\n",
              "    <tr>\n",
              "      <th>99</th>\n",
              "      <td>13.117413</td>\n",
              "      <td>55.177407</td>\n",
              "    </tr>\n",
              "  </tbody>\n",
              "</table>\n",
              "<p>93 rows × 2 columns</p>\n",
              "</div>"
            ],
            "text/plain": [
              "          Age     Height\n",
              "0   14.767874  59.627484\n",
              "1    3.107671  36.146453\n",
              "2    7.266917  46.912878\n",
              "3    1.815180  29.125660\n",
              "4   16.753758  68.170414\n",
              "..        ...        ...\n",
              "95   7.323712  46.857505\n",
              "96   5.591509  39.339990\n",
              "97   2.625606  32.918925\n",
              "98   5.519293  40.704154\n",
              "99  13.117413  55.177407\n",
              "\n",
              "[93 rows x 2 columns]"
            ]
          },
          "metadata": {
            "tags": []
          },
          "execution_count": 12
        }
      ]
    },
    {
      "cell_type": "code",
      "metadata": {
        "colab": {
          "base_uri": "https://localhost:8080/",
          "height": 297
        },
        "id": "2_FkkqoZZ6mB",
        "outputId": "1a00f9c9-f1d0-49f9-c110-946c04674c0d"
      },
      "source": [
        "cleaned_data.describe()"
      ],
      "execution_count": 13,
      "outputs": [
        {
          "output_type": "execute_result",
          "data": {
            "text/html": [
              "<div>\n",
              "<style scoped>\n",
              "    .dataframe tbody tr th:only-of-type {\n",
              "        vertical-align: middle;\n",
              "    }\n",
              "\n",
              "    .dataframe tbody tr th {\n",
              "        vertical-align: top;\n",
              "    }\n",
              "\n",
              "    .dataframe thead th {\n",
              "        text-align: right;\n",
              "    }\n",
              "</style>\n",
              "<table border=\"1\" class=\"dataframe\">\n",
              "  <thead>\n",
              "    <tr style=\"text-align: right;\">\n",
              "      <th></th>\n",
              "      <th>Age</th>\n",
              "      <th>Height</th>\n",
              "    </tr>\n",
              "  </thead>\n",
              "  <tbody>\n",
              "    <tr>\n",
              "      <th>count</th>\n",
              "      <td>93.000000</td>\n",
              "      <td>93.000000</td>\n",
              "    </tr>\n",
              "    <tr>\n",
              "      <th>mean</th>\n",
              "      <td>8.595192</td>\n",
              "      <td>47.164420</td>\n",
              "    </tr>\n",
              "    <tr>\n",
              "      <th>std</th>\n",
              "      <td>4.975428</td>\n",
              "      <td>10.190036</td>\n",
              "    </tr>\n",
              "    <tr>\n",
              "      <th>min</th>\n",
              "      <td>0.195686</td>\n",
              "      <td>29.007696</td>\n",
              "    </tr>\n",
              "    <tr>\n",
              "      <th>25%</th>\n",
              "      <td>5.020210</td>\n",
              "      <td>38.287710</td>\n",
              "    </tr>\n",
              "    <tr>\n",
              "      <th>50%</th>\n",
              "      <td>8.433330</td>\n",
              "      <td>47.332750</td>\n",
              "    </tr>\n",
              "    <tr>\n",
              "      <th>75%</th>\n",
              "      <td>11.923862</td>\n",
              "      <td>54.751892</td>\n",
              "    </tr>\n",
              "    <tr>\n",
              "      <th>max</th>\n",
              "      <td>17.887852</td>\n",
              "      <td>68.170414</td>\n",
              "    </tr>\n",
              "  </tbody>\n",
              "</table>\n",
              "</div>"
            ],
            "text/plain": [
              "             Age     Height\n",
              "count  93.000000  93.000000\n",
              "mean    8.595192  47.164420\n",
              "std     4.975428  10.190036\n",
              "min     0.195686  29.007696\n",
              "25%     5.020210  38.287710\n",
              "50%     8.433330  47.332750\n",
              "75%    11.923862  54.751892\n",
              "max    17.887852  68.170414"
            ]
          },
          "metadata": {
            "tags": []
          },
          "execution_count": 13
        }
      ]
    },
    {
      "cell_type": "markdown",
      "metadata": {
        "id": "xMmguZJRYhfb"
      },
      "source": [
        "Visualize the Cleaned Data"
      ]
    },
    {
      "cell_type": "code",
      "metadata": {
        "colab": {
          "base_uri": "https://localhost:8080/",
          "height": 332
        },
        "id": "xa7NosanZ1fI",
        "outputId": "380e35fb-fbef-4876-a5ad-10b72b0349f8"
      },
      "source": [
        "cleaned_data.hist()"
      ],
      "execution_count": 14,
      "outputs": [
        {
          "output_type": "execute_result",
          "data": {
            "text/plain": [
              "array([[<matplotlib.axes._subplots.AxesSubplot object at 0x7fd13c886e90>,\n",
              "        <matplotlib.axes._subplots.AxesSubplot object at 0x7fd13c8b1490>]],\n",
              "      dtype=object)"
            ]
          },
          "metadata": {
            "tags": []
          },
          "execution_count": 14
        },
        {
          "output_type": "display_data",
          "data": {
            "image/png": "[encoded data removed]",
            "text/plain": [
              "<Figure size 432x288 with 2 Axes>"
            ]
          },
          "metadata": {
            "tags": [],
            "needs_background": "light"
          }
        }
      ]
    },
    {
      "cell_type": "code",
      "metadata": {
        "colab": {
          "base_uri": "https://localhost:8080/",
          "height": 286
        },
        "id": "6ckhaM9RalaG",
        "outputId": "61d98417-fb5f-424f-a24f-07bf90fec8d8"
      },
      "source": [
        "import matplotlib.pyplot as plt\r\n",
        "ages = cleaned_data['Age']\r\n",
        "heights = cleaned_data['Height']\r\n",
        "plt.scatter(ages, heights)"
      ],
      "execution_count": 15,
      "outputs": [
        {
          "output_type": "execute_result",
          "data": {
            "text/plain": [
              "<matplotlib.collections.PathCollection at 0x7fd13c7fc750>"
            ]
          },
          "metadata": {
            "tags": []
          },
          "execution_count": 15
        },
        {
          "output_type": "display_data",
          "data": {
            "image/png": "[encoded data removed]",
            "text/plain": [
              "<Figure size 432x288 with 1 Axes>"
            ]
          },
          "metadata": {
            "tags": [],
            "needs_background": "light"
          }
        }
      ]
    },
    {
      "cell_type": "markdown",
      "metadata": {
        "id": "MuE1c2BjUM-_"
      },
      "source": [
        "Build the Model and Train it"
      ]
    },
    {
      "cell_type": "code",
      "metadata": {
        "id": "WShOyJClUSME"
      },
      "source": [
        ""
      ],
      "execution_count": null,
      "outputs": []
    },
    {
      "cell_type": "markdown",
      "metadata": {
        "id": "QiBazjndUVdm"
      },
      "source": [
        "Use the Model - Make some Predictions on UNSEEN Data\r\n"
      ]
    },
    {
      "cell_type": "code",
      "metadata": {
        "id": "FLaJusWIUd0F"
      },
      "source": [
        ""
      ],
      "execution_count": null,
      "outputs": []
    }
  ]
}